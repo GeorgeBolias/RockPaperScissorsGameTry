{
 "cells": [
  {
   "cell_type": "markdown",
   "id": "1429a11c-5f46-4a61-9a49-59dcf326d053",
   "metadata": {},
   "source": [
    "**Rock Paper Scissors**"
   ]
  },
  {
   "cell_type": "code",
   "execution_count": 27,
   "id": "93cdc0db-abf7-40cd-b2a3-3e9c49e0c047",
   "metadata": {},
   "outputs": [
    {
     "name": "stdin",
     "output_type": "stream",
     "text": [
      "Enter rock, paper, scissors:  rock\n"
     ]
    },
    {
     "name": "stdout",
     "output_type": "stream",
     "text": [
      "You choose: rock, Computer chose: scissors.\n",
      "You Win!!!\n"
     ]
    }
   ],
   "source": [
    "import random\n",
    "\n",
    "def Get_Computer_Choice():\n",
    "    Choices = [\"rock\", \"paper\", \"scissors\"]\n",
    "    return random.choice(Choices)\n",
    "\n",
    "def Decide_Winner(User, Computer):\n",
    "    if User == Computer:\n",
    "        return \"It,s a tie!\"\n",
    "    elif (User == \"rock\" and Computer == \"scissors\") or \\\n",
    "         (User == \"scissors\" and Computer == \"paper\") or \\\n",
    "         (User == \"paper\" and Computer == \"rock\"):\n",
    "        return \"You Win!!!\"\n",
    "    else:\n",
    "        return \"Computer Wins!\"\n",
    "# Get user input\n",
    "User_Choice = input(\"Enter rock, paper, scissors: \").lower()\n",
    "Computer_Choice = Get_Computer_Choice()\n",
    "\n",
    "#print the choices\n",
    "print(f\"You choose: {User_Choice}, Computer chose: {Computer_Choice}.\")\n",
    "\n",
    "#print result\n",
    "print(Decide_Winner(User_Choice, Computer_Choice))\n",
    "\n",
    "    "
   ]
  },
  {
   "cell_type": "code",
   "execution_count": null,
   "id": "fc1183bb-ff6b-4257-a1e4-8963bc2e2d7b",
   "metadata": {},
   "outputs": [],
   "source": []
  }
 ],
 "metadata": {
  "kernelspec": {
   "display_name": "Python 3 (ipykernel)",
   "language": "python",
   "name": "python3"
  },
  "language_info": {
   "codemirror_mode": {
    "name": "ipython",
    "version": 3
   },
   "file_extension": ".py",
   "mimetype": "text/x-python",
   "name": "python",
   "nbconvert_exporter": "python",
   "pygments_lexer": "ipython3",
   "version": "3.12.4"
  }
 },
 "nbformat": 4,
 "nbformat_minor": 5
}
